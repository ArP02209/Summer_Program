{
 "cells": [
  {
   "cell_type": "code",
   "execution_count": 1,
   "metadata": {},
   "outputs": [],
   "source": [
    "import cv2,numpy"
   ]
  },
  {
   "cell_type": "code",
   "execution_count": 56,
   "metadata": {},
   "outputs": [],
   "source": [
    "cap=cv2.VideoCapture(0)"
   ]
  },
  {
   "cell_type": "code",
   "execution_count": 4,
   "metadata": {},
   "outputs": [],
   "source": [
    "ret, photo=cap.read()"
   ]
  },
  {
   "cell_type": "code",
   "execution_count": 5,
   "metadata": {},
   "outputs": [
    {
     "data": {
      "text/plain": [
       "True"
      ]
     },
     "execution_count": 5,
     "metadata": {},
     "output_type": "execute_result"
    }
   ],
   "source": [
    "ret"
   ]
  },
  {
   "cell_type": "code",
   "execution_count": 6,
   "metadata": {},
   "outputs": [
    {
     "data": {
      "text/plain": [
       "array([[[124, 143, 154],\n",
       "        [124, 143, 154],\n",
       "        [123, 142, 153],\n",
       "        ...,\n",
       "        [135, 173, 167],\n",
       "        [134, 175, 168],\n",
       "        [135, 176, 169]],\n",
       "\n",
       "       [[123, 142, 153],\n",
       "        [123, 142, 153],\n",
       "        [123, 142, 153],\n",
       "        ...,\n",
       "        [135, 173, 167],\n",
       "        [135, 176, 169],\n",
       "        [135, 176, 169]],\n",
       "\n",
       "       [[117, 143, 149],\n",
       "        [119, 143, 149],\n",
       "        [120, 144, 150],\n",
       "        ...,\n",
       "        [136, 174, 168],\n",
       "        [137, 175, 169],\n",
       "        [138, 176, 170]],\n",
       "\n",
       "       ...,\n",
       "\n",
       "       [[103,  80,  64],\n",
       "        [104,  82,  70],\n",
       "        [102,  82,  71],\n",
       "        ...,\n",
       "        [ 89,  81,  58],\n",
       "        [ 85,  79,  56],\n",
       "        [ 83,  77,  54]],\n",
       "\n",
       "       [[109,  84,  74],\n",
       "        [107,  81,  75],\n",
       "        [103,  78,  74],\n",
       "        ...,\n",
       "        [ 85,  81,  57],\n",
       "        [ 83,  79,  55],\n",
       "        [ 80,  76,  52]],\n",
       "\n",
       "       [[108,  83,  73],\n",
       "        [104,  78,  72],\n",
       "        [100,  75,  71],\n",
       "        ...,\n",
       "        [ 83,  79,  55],\n",
       "        [ 80,  76,  52],\n",
       "        [ 77,  73,  49]]], dtype=uint8)"
      ]
     },
     "execution_count": 6,
     "metadata": {},
     "output_type": "execute_result"
    }
   ],
   "source": [
    "photo"
   ]
  },
  {
   "cell_type": "code",
   "execution_count": 7,
   "metadata": {},
   "outputs": [
    {
     "data": {
      "text/plain": [
       "True"
      ]
     },
     "execution_count": 7,
     "metadata": {},
     "output_type": "execute_result"
    }
   ],
   "source": [
    "cv2.imwrite(\"my.jpg\", photo)"
   ]
  },
  {
   "cell_type": "code",
   "execution_count": 8,
   "metadata": {},
   "outputs": [],
   "source": [
    "cap.release()"
   ]
  },
  {
   "cell_type": "code",
   "execution_count": 76,
   "metadata": {},
   "outputs": [],
   "source": [
    "cv2.imshow(\"myimage\", cn)\n",
    "cv2.waitKey()\n",
    "cv2.destroyAllWindows()"
   ]
  },
  {
   "cell_type": "code",
   "execution_count": 11,
   "metadata": {},
   "outputs": [],
   "source": [
    "p1=cv2.imread('my.jpg')"
   ]
  },
  {
   "cell_type": "code",
   "execution_count": 12,
   "metadata": {},
   "outputs": [
    {
     "data": {
      "text/plain": [
       "array([[[123, 143, 154],\n",
       "        [123, 143, 154],\n",
       "        [123, 144, 152],\n",
       "        ...,\n",
       "        [135, 173, 167],\n",
       "        [134, 175, 168],\n",
       "        [135, 176, 169]],\n",
       "\n",
       "       [[122, 142, 153],\n",
       "        [122, 143, 151],\n",
       "        [122, 143, 151],\n",
       "        ...,\n",
       "        [135, 173, 167],\n",
       "        [137, 175, 169],\n",
       "        [136, 177, 170]],\n",
       "\n",
       "       [[119, 142, 150],\n",
       "        [120, 144, 150],\n",
       "        [120, 144, 150],\n",
       "        ...,\n",
       "        [137, 175, 169],\n",
       "        [137, 175, 169],\n",
       "        [138, 176, 170]],\n",
       "\n",
       "       ...,\n",
       "\n",
       "       [[102,  80,  68],\n",
       "        [104,  82,  70],\n",
       "        [102,  82,  71],\n",
       "        ...,\n",
       "        [ 87,  81,  58],\n",
       "        [ 85,  80,  55],\n",
       "        [ 83,  78,  53]],\n",
       "\n",
       "       [[107,  85,  74],\n",
       "        [104,  81,  73],\n",
       "        [101,  79,  73],\n",
       "        ...,\n",
       "        [ 86,  80,  57],\n",
       "        [ 83,  79,  54],\n",
       "        [ 80,  76,  51]],\n",
       "\n",
       "       [[107,  84,  76],\n",
       "        [101,  78,  70],\n",
       "        [ 98,  76,  71],\n",
       "        ...,\n",
       "        [ 84,  78,  55],\n",
       "        [ 80,  76,  51],\n",
       "        [ 78,  74,  49]]], dtype=uint8)"
      ]
     },
     "execution_count": 12,
     "metadata": {},
     "output_type": "execute_result"
    }
   ],
   "source": [
    "p1"
   ]
  },
  {
   "cell_type": "code",
   "execution_count": 17,
   "metadata": {},
   "outputs": [
    {
     "data": {
      "text/plain": [
       "(480, 640, 3)"
      ]
     },
     "execution_count": 17,
     "metadata": {},
     "output_type": "execute_result"
    }
   ],
   "source": [
    "p1.shape"
   ]
  },
  {
   "cell_type": "code",
   "execution_count": 35,
   "metadata": {},
   "outputs": [],
   "source": [
    "p1[-200:200]=[255,255,0]"
   ]
  },
  {
   "cell_type": "code",
   "execution_count": 27,
   "metadata": {},
   "outputs": [
    {
     "data": {
      "text/plain": [
       "array([[255, 255,   0],\n",
       "       [255, 255,   0],\n",
       "       [255, 255,   0],\n",
       "       ...,\n",
       "       [255, 255,   0],\n",
       "       [255, 255,   0],\n",
       "       [255, 255,   0]], dtype=uint8)"
      ]
     },
     "execution_count": 27,
     "metadata": {},
     "output_type": "execute_result"
    }
   ],
   "source": [
    "p1[240]"
   ]
  },
  {
   "cell_type": "code",
   "execution_count": 47,
   "metadata": {},
   "outputs": [],
   "source": [
    "cn=numpy.zeros((560,1000,3))"
   ]
  },
  {
   "cell_type": "code",
   "execution_count": 48,
   "metadata": {},
   "outputs": [
    {
     "data": {
      "text/plain": [
       "(560, 1000, 3)"
      ]
     },
     "execution_count": 48,
     "metadata": {},
     "output_type": "execute_result"
    }
   ],
   "source": [
    "cn.shape"
   ]
  },
  {
   "cell_type": "code",
   "execution_count": 49,
   "metadata": {},
   "outputs": [],
   "source": [
    "cn[: 280]=[0,254,255]"
   ]
  },
  {
   "cell_type": "code",
   "execution_count": 71,
   "metadata": {},
   "outputs": [],
   "source": [
    "while True:\n",
    "    ret1, photo=cap.read()\n",
    "    cphoto=cv2.cvtColor(photo,cv2.COLOR_BGR2GRAY)\n",
    "    cv2.imshow('hi', cphoto)\n",
    "    if cv2.waitKey(10)== 13:\n",
    "        break\n",
    "cv2.destroyAllWindows()"
   ]
  },
  {
   "cell_type": "code",
   "execution_count": 72,
   "metadata": {},
   "outputs": [
    {
     "data": {
      "text/plain": [
       "array([[[  0., 254., 255.],\n",
       "        [  0., 254., 255.],\n",
       "        [  0., 254., 255.],\n",
       "        ...,\n",
       "        [  0., 254., 255.],\n",
       "        [  0., 254., 255.],\n",
       "        [  0., 254., 255.]],\n",
       "\n",
       "       [[  0., 254., 255.],\n",
       "        [  0., 254., 255.],\n",
       "        [  0., 254., 255.],\n",
       "        ...,\n",
       "        [  0., 254., 255.],\n",
       "        [  0., 254., 255.],\n",
       "        [  0., 254., 255.]],\n",
       "\n",
       "       [[  0., 254., 255.],\n",
       "        [  0., 254., 255.],\n",
       "        [  0., 254., 255.],\n",
       "        ...,\n",
       "        [  0., 254., 255.],\n",
       "        [  0., 254., 255.],\n",
       "        [  0., 254., 255.]],\n",
       "\n",
       "       ...,\n",
       "\n",
       "       [[  0.,   0.,   0.],\n",
       "        [  0.,   0.,   0.],\n",
       "        [  0.,   0.,   0.],\n",
       "        ...,\n",
       "        [  0.,   0.,   0.],\n",
       "        [  0.,   0.,   0.],\n",
       "        [  0.,   0.,   0.]],\n",
       "\n",
       "       [[  0.,   0.,   0.],\n",
       "        [  0.,   0.,   0.],\n",
       "        [  0.,   0.,   0.],\n",
       "        ...,\n",
       "        [  0.,   0.,   0.],\n",
       "        [  0.,   0.,   0.],\n",
       "        [  0.,   0.,   0.]],\n",
       "\n",
       "       [[  0.,   0.,   0.],\n",
       "        [  0.,   0.,   0.],\n",
       "        [  0.,   0.,   0.],\n",
       "        ...,\n",
       "        [  0.,   0.,   0.],\n",
       "        [  0.,   0.,   0.],\n",
       "        [  0.,   0.,   0.]]])"
      ]
     },
     "execution_count": 72,
     "metadata": {},
     "output_type": "execute_result"
    }
   ],
   "source": [
    "cn"
   ]
  },
  {
   "cell_type": "code",
   "execution_count": 73,
   "metadata": {},
   "outputs": [],
   "source": [
    "cap.release()"
   ]
  },
  {
   "cell_type": "code",
   "execution_count": 2,
   "metadata": {},
   "outputs": [],
   "source": [
    "Superman=cv2.imread('man-of-steel.jpg')"
   ]
  },
  {
   "cell_type": "code",
   "execution_count": 3,
   "metadata": {},
   "outputs": [],
   "source": [
    "Shazam=cv2.imread('shazam.jpg')"
   ]
  },
  {
   "cell_type": "code",
   "execution_count": 6,
   "metadata": {},
   "outputs": [
    {
     "data": {
      "text/plain": [
       "(628, 1000, 3)"
      ]
     },
     "execution_count": 6,
     "metadata": {},
     "output_type": "execute_result"
    }
   ],
   "source": [
    "Sup.shape"
   ]
  },
  {
   "cell_type": "code",
   "execution_count": 7,
   "metadata": {},
   "outputs": [
    {
     "data": {
      "text/plain": [
       "(628, 1000, 3)"
      ]
     },
     "execution_count": 7,
     "metadata": {},
     "output_type": "execute_result"
    }
   ],
   "source": [
    "SH.shape"
   ]
  },
  {
   "cell_type": "code",
   "execution_count": 4,
   "metadata": {},
   "outputs": [],
   "source": [
    "SH=Shazam[:628 ,200:1200]"
   ]
  },
  {
   "cell_type": "code",
   "execution_count": 5,
   "metadata": {},
   "outputs": [],
   "source": [
    "Sup=Superman[:628 ,200:1200]"
   ]
  },
  {
   "cell_type": "code",
   "execution_count": 8,
   "metadata": {},
   "outputs": [],
   "source": [
    "Combined= numpy.hstack((SH,Sup))"
   ]
  },
  {
   "cell_type": "code",
   "execution_count": 9,
   "metadata": {},
   "outputs": [],
   "source": [
    "cv2.imshow(\"myimage\", Combined)\n",
    "cv2.waitKey()\n",
    "cv2.destroyAllWindows()"
   ]
  },
  {
   "cell_type": "code",
   "execution_count": null,
   "metadata": {},
   "outputs": [],
   "source": []
  }
 ],
 "metadata": {
  "kernelspec": {
   "display_name": "Python 3",
   "language": "python",
   "name": "python3"
  },
  "language_info": {
   "codemirror_mode": {
    "name": "ipython",
    "version": 3
   },
   "file_extension": ".py",
   "mimetype": "text/x-python",
   "name": "python",
   "nbconvert_exporter": "python",
   "pygments_lexer": "ipython3",
   "version": "3.8.3"
  }
 },
 "nbformat": 4,
 "nbformat_minor": 4
}
