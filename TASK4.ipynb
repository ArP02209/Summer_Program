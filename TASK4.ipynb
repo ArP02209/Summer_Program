{
 "cells": [
  {
   "cell_type": "code",
   "execution_count": 1,
   "metadata": {},
   "outputs": [],
   "source": [
    "import cv2,numpy"
   ]
  },
  {
   "cell_type": "code",
   "execution_count": 2,
   "metadata": {},
   "outputs": [],
   "source": [
    "cap=cv2.VideoCapture(0)"
   ]
  },
  {
   "cell_type": "code",
   "execution_count": 3,
   "metadata": {},
   "outputs": [],
   "source": [
    "img=numpy.zeros((600,1000,3))"
   ]
  },
  {
   "cell_type": "code",
   "execution_count": 4,
   "metadata": {},
   "outputs": [],
   "source": [
    "img[:200, 200: ]=[0,100,0]\n",
    "img[200: 401, 200:]=[255,255,255]\n",
    "img[400: , 200: ]=[0,0,0]\n",
    "img[ : , : 201]=[0,0,255]"
   ]
  },
  {
   "cell_type": "code",
   "execution_count": 5,
   "metadata": {},
   "outputs": [],
   "source": [
    "UAE_flag=img"
   ]
  },
  {
   "cell_type": "code",
   "execution_count": 6,
   "metadata": {},
   "outputs": [],
   "source": [
    "cv2.imshow(\"myimage\",UAE_flag)\n",
    "cv2.waitKey()\n",
    "cv2.destroyAllWindows()"
   ]
  },
  {
   "cell_type": "code",
   "execution_count": 32,
   "metadata": {},
   "outputs": [
    {
     "data": {
      "text/plain": [
       "array([[[  0.,   0., 255.],\n",
       "        [  0.,   0., 255.],\n",
       "        [  0.,   0., 255.],\n",
       "        ...,\n",
       "        [  0., 100.,   0.],\n",
       "        [  0., 100.,   0.],\n",
       "        [  0., 100.,   0.]],\n",
       "\n",
       "       [[  0.,   0., 255.],\n",
       "        [  0.,   0., 255.],\n",
       "        [  0.,   0., 255.],\n",
       "        ...,\n",
       "        [  0., 100.,   0.],\n",
       "        [  0., 100.,   0.],\n",
       "        [  0., 100.,   0.]],\n",
       "\n",
       "       [[  0.,   0., 255.],\n",
       "        [  0.,   0., 255.],\n",
       "        [  0.,   0., 255.],\n",
       "        ...,\n",
       "        [  0., 100.,   0.],\n",
       "        [  0., 100.,   0.],\n",
       "        [  0., 100.,   0.]],\n",
       "\n",
       "       ...,\n",
       "\n",
       "       [[  0.,   0., 255.],\n",
       "        [  0.,   0., 255.],\n",
       "        [  0.,   0., 255.],\n",
       "        ...,\n",
       "        [  0.,   0.,   0.],\n",
       "        [  0.,   0.,   0.],\n",
       "        [  0.,   0.,   0.]],\n",
       "\n",
       "       [[  0.,   0., 255.],\n",
       "        [  0.,   0., 255.],\n",
       "        [  0.,   0., 255.],\n",
       "        ...,\n",
       "        [  0.,   0.,   0.],\n",
       "        [  0.,   0.,   0.],\n",
       "        [  0.,   0.,   0.]],\n",
       "\n",
       "       [[  0.,   0., 255.],\n",
       "        [  0.,   0., 255.],\n",
       "        [  0.,   0., 255.],\n",
       "        ...,\n",
       "        [  0.,   0.,   0.],\n",
       "        [  0.,   0.,   0.],\n",
       "        [  0.,   0.,   0.]]])"
      ]
     },
     "execution_count": 32,
     "metadata": {},
     "output_type": "execute_result"
    }
   ],
   "source": [
    "UAE_flag"
   ]
  },
  {
   "cell_type": "code",
   "execution_count": 7,
   "metadata": {},
   "outputs": [],
   "source": [
    "MOS=cv2.imread('man-of-steel.jpg')"
   ]
  },
  {
   "cell_type": "code",
   "execution_count": 41,
   "metadata": {},
   "outputs": [],
   "source": [
    "SH=cv2.imread('shazam.jpg')"
   ]
  },
  {
   "cell_type": "code",
   "execution_count": 42,
   "metadata": {},
   "outputs": [],
   "source": [
    "Shaz=SH"
   ]
  },
  {
   "cell_type": "code",
   "execution_count": 9,
   "metadata": {},
   "outputs": [
    {
     "data": {
      "text/plain": [
       "array([[[81, 68, 24],\n",
       "        [78, 65, 21],\n",
       "        [74, 61, 17],\n",
       "        ...,\n",
       "        [ 6,  1,  0],\n",
       "        [ 6,  1,  0],\n",
       "        [ 6,  1,  0]],\n",
       "\n",
       "       [[80, 67, 23],\n",
       "        [78, 65, 21],\n",
       "        [75, 62, 18],\n",
       "        ...,\n",
       "        [ 6,  1,  0],\n",
       "        [ 6,  1,  0],\n",
       "        [ 6,  1,  0]],\n",
       "\n",
       "       [[79, 66, 20],\n",
       "        [79, 66, 20],\n",
       "        [77, 64, 20],\n",
       "        ...,\n",
       "        [ 6,  1,  0],\n",
       "        [ 6,  1,  0],\n",
       "        [ 6,  1,  0]],\n",
       "\n",
       "       ...,\n",
       "\n",
       "       [[ 6,  1,  0],\n",
       "        [ 7,  2,  1],\n",
       "        [ 7,  2,  1],\n",
       "        ...,\n",
       "        [32, 23, 13],\n",
       "        [32, 23, 13],\n",
       "        [32, 23, 13]],\n",
       "\n",
       "       [[ 6,  1,  0],\n",
       "        [ 7,  2,  1],\n",
       "        [ 7,  2,  1],\n",
       "        ...,\n",
       "        [29, 20, 10],\n",
       "        [30, 21, 11],\n",
       "        [30, 21, 11]],\n",
       "\n",
       "       [[ 6,  1,  0],\n",
       "        [ 7,  2,  1],\n",
       "        [ 7,  2,  1],\n",
       "        ...,\n",
       "        [27, 18,  8],\n",
       "        [29, 20, 10],\n",
       "        [30, 21, 11]]], dtype=uint8)"
      ]
     },
     "execution_count": 9,
     "metadata": {},
     "output_type": "execute_result"
    }
   ],
   "source": [
    "MOS"
   ]
  },
  {
   "cell_type": "code",
   "execution_count": 45,
   "metadata": {},
   "outputs": [
    {
     "data": {
      "text/plain": [
       "(628, 1000, 3)"
      ]
     },
     "execution_count": 45,
     "metadata": {},
     "output_type": "execute_result"
    }
   ],
   "source": [
    "Shaz.shape"
   ]
  },
  {
   "cell_type": "code",
   "execution_count": 44,
   "metadata": {},
   "outputs": [],
   "source": [
    "Shaz=Shaz[:628 ,200:1200]"
   ]
  },
  {
   "cell_type": "code",
   "execution_count": 23,
   "metadata": {},
   "outputs": [
    {
     "data": {
      "text/plain": [
       "(628, 1000, 3)"
      ]
     },
     "execution_count": 23,
     "metadata": {},
     "output_type": "execute_result"
    }
   ],
   "source": [
    "MOS.shape"
   ]
  },
  {
   "cell_type": "code",
   "execution_count": 21,
   "metadata": {},
   "outputs": [
    {
     "data": {
      "text/plain": [
       "(628, 1000, 3)"
      ]
     },
     "execution_count": 21,
     "metadata": {},
     "output_type": "execute_result"
    }
   ],
   "source": [
    "SH.shape"
   ]
  },
  {
   "cell_type": "code",
   "execution_count": 20,
   "metadata": {},
   "outputs": [],
   "source": [
    "SH=SH[:628 ,200:1200]"
   ]
  },
  {
   "cell_type": "code",
   "execution_count": 22,
   "metadata": {},
   "outputs": [],
   "source": [
    "MOS=MOS[:628 ,200:1200]"
   ]
  },
  {
   "cell_type": "code",
   "execution_count": 40,
   "metadata": {},
   "outputs": [],
   "source": [
    "cv2.imshow(\"myimage\",Shaz)\n",
    "cv2.waitKey()\n",
    "cv2.destroyAllWindows()"
   ]
  },
  {
   "cell_type": "code",
   "execution_count": 47,
   "metadata": {},
   "outputs": [],
   "source": [
    "cv2.imshow(\"myimage\",MOS)\n",
    "cv2.waitKey()\n",
    "cv2.destroyAllWindows()"
   ]
  },
  {
   "cell_type": "code",
   "execution_count": 162,
   "metadata": {},
   "outputs": [
    {
     "data": {
      "text/plain": [
       "array([[[28, 18,  8],\n",
       "        [28, 18,  8],\n",
       "        [28, 18,  8],\n",
       "        ...,\n",
       "        [ 6,  1,  0],\n",
       "        [ 6,  1,  0],\n",
       "        [ 6,  1,  0]],\n",
       "\n",
       "       [[29, 19,  9],\n",
       "        [28, 18,  8],\n",
       "        [28, 18,  8],\n",
       "        ...,\n",
       "        [ 6,  1,  0],\n",
       "        [ 6,  1,  0],\n",
       "        [ 6,  1,  0]],\n",
       "\n",
       "       [[29, 19,  9],\n",
       "        [29, 19,  9],\n",
       "        [28, 18,  8],\n",
       "        ...,\n",
       "        [ 6,  1,  0],\n",
       "        [ 6,  1,  0],\n",
       "        [ 6,  1,  0]],\n",
       "\n",
       "       ...,\n",
       "\n",
       "       [[ 7,  2,  1],\n",
       "        [ 7,  2,  1],\n",
       "        [ 7,  2,  1],\n",
       "        ...,\n",
       "        [32, 23, 13],\n",
       "        [32, 23, 13],\n",
       "        [32, 23, 13]],\n",
       "\n",
       "       [[ 7,  2,  1],\n",
       "        [ 7,  2,  1],\n",
       "        [ 7,  2,  1],\n",
       "        ...,\n",
       "        [29, 20, 10],\n",
       "        [30, 21, 11],\n",
       "        [30, 21, 11]],\n",
       "\n",
       "       [[ 7,  2,  1],\n",
       "        [ 7,  2,  1],\n",
       "        [ 7,  2,  1],\n",
       "        ...,\n",
       "        [27, 18,  8],\n",
       "        [29, 20, 10],\n",
       "        [30, 21, 11]]], dtype=uint8)"
      ]
     },
     "execution_count": 162,
     "metadata": {},
     "output_type": "execute_result"
    }
   ],
   "source": [
    "MOS"
   ]
  },
  {
   "cell_type": "code",
   "execution_count": 26,
   "metadata": {},
   "outputs": [],
   "source": [
    "Crop_sha=SH[10:265,610:790]"
   ]
  },
  {
   "cell_type": "code",
   "execution_count": 27,
   "metadata": {},
   "outputs": [],
   "source": [
    "Crop_Sup=MOS[45:300,320:500]"
   ]
  },
  {
   "cell_type": "code",
   "execution_count": 28,
   "metadata": {},
   "outputs": [],
   "source": [
    "cv2.imshow(\"Shazam\",Crop_sha)\n",
    "cv2.waitKey()\n",
    "cv2.destroyAllWindows()"
   ]
  },
  {
   "cell_type": "code",
   "execution_count": 29,
   "metadata": {},
   "outputs": [],
   "source": [
    "cv2.imshow(\"SuperMan\", Crop_Sup)\n",
    "cv2.waitKey()\n",
    "cv2.destroyAllWindows()"
   ]
  },
  {
   "cell_type": "code",
   "execution_count": 30,
   "metadata": {},
   "outputs": [
    {
     "data": {
      "text/plain": [
       "(255, 180, 3)"
      ]
     },
     "execution_count": 30,
     "metadata": {},
     "output_type": "execute_result"
    }
   ],
   "source": [
    "Crop_Sup.shape"
   ]
  },
  {
   "cell_type": "code",
   "execution_count": 32,
   "metadata": {},
   "outputs": [],
   "source": [
    "SH[10:265,610:790]=MOS[45:300,320:500]"
   ]
  },
  {
   "cell_type": "code",
   "execution_count": 46,
   "metadata": {},
   "outputs": [],
   "source": [
    "MOS[45:300,320:500]=Shaz[10:265,610:790]"
   ]
  },
  {
   "cell_type": "code",
   "execution_count": 181,
   "metadata": {},
   "outputs": [],
   "source": [
    "Crop_SH=cv2.imread"
   ]
  },
  {
   "cell_type": "code",
   "execution_count": 31,
   "metadata": {},
   "outputs": [
    {
     "data": {
      "text/plain": [
       "(255, 180, 3)"
      ]
     },
     "execution_count": 31,
     "metadata": {},
     "output_type": "execute_result"
    }
   ],
   "source": [
    "Crop_sha.shape"
   ]
  },
  {
   "cell_type": "code",
   "execution_count": 41,
   "metadata": {},
   "outputs": [
    {
     "data": {
      "text/plain": [
       "(628, 1000, 3)"
      ]
     },
     "execution_count": 41,
     "metadata": {},
     "output_type": "execute_result"
    }
   ],
   "source": [
    "MOS.shape"
   ]
  },
  {
   "cell_type": "code",
   "execution_count": 64,
   "metadata": {},
   "outputs": [
    {
     "data": {
      "text/plain": [
       "(628, 1000, 3)"
      ]
     },
     "execution_count": 64,
     "metadata": {},
     "output_type": "execute_result"
    }
   ],
   "source": [
    "Shaz.shape"
   ]
  },
  {
   "cell_type": "code",
   "execution_count": null,
   "metadata": {},
   "outputs": [],
   "source": []
  }
 ],
 "metadata": {
  "kernelspec": {
   "display_name": "Python 3",
   "language": "python",
   "name": "python3"
  },
  "language_info": {
   "codemirror_mode": {
    "name": "ipython",
    "version": 3
   },
   "file_extension": ".py",
   "mimetype": "text/x-python",
   "name": "python",
   "nbconvert_exporter": "python",
   "pygments_lexer": "ipython3",
   "version": "3.8.3"
  }
 },
 "nbformat": 4,
 "nbformat_minor": 4
}
